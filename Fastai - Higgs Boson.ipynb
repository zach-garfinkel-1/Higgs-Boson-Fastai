{
 "cells": [
  {
   "cell_type": "code",
   "execution_count": 7,
   "metadata": {},
   "outputs": [
    {
     "name": "stderr",
     "output_type": "stream",
     "text": [
      "Using TensorFlow backend.\n"
     ]
    }
   ],
   "source": [
    "# IMPORT LIBRARIES\n",
    "\n",
    "import numpy as np\n",
    "import math\n",
    "import statistics\n",
    "import re\n",
    "import os\n",
    "import csv\n",
    "import pandas as pd\n",
    "import matplotlib.pyplot as plt\n",
    "%matplotlib inline\n",
    "\n",
    "from sklearn.preprocessing import MinMaxScaler\n",
    "from keras.models import Sequential\n",
    "from keras.layers import Dense, LSTM\n",
    "\n",
    "from fastai import *\n",
    "from fastai.tabular import *"
   ]
  },
  {
   "cell_type": "code",
   "execution_count": 13,
   "metadata": {},
   "outputs": [],
   "source": [
    "# READ IN CSV\n",
    "\n",
    "higgs_train = pd.read_csv('training.csv')\n",
    "train = higgs_train.drop(['EventId','Weight'], axis=1)\n",
    "\n",
    "\n",
    "higgs_test = pd.read_csv('test.csv')\n",
    "test = higgs_test.drop(['EventId'], axis=1)\n",
    "\n",
    "\n",
    "weights = higgs_train.iloc[:,-2]\n",
    "cont_features = higgs_train.drop(['EventId','Weight','PRI_jet_num'], axis=1)"
   ]
  },
  {
   "cell_type": "code",
   "execution_count": 16,
   "metadata": {},
   "outputs": [],
   "source": [
    "# FIX -999 VALUES, CONVERT TO MEDIANS\n",
    "\n",
    "for i in np.arange(len(train.columns)-1):\n",
    "    train.iloc[:,i] = train.iloc[:,i].replace(-999,np.median(train.iloc[:,i]))\n",
    "\n",
    "for i in np.arange(len(test.columns)):\n",
    "    train.iloc[:,i] = train.iloc[:,i].replace(-999,np.median(train.iloc[:,i]))"
   ]
  },
  {
   "cell_type": "code",
   "execution_count": 17,
   "metadata": {},
   "outputs": [],
   "source": [
    "# LABEL COLUMNS\n",
    "\n",
    "dep_var = train.columns[-1]\n",
    "cat_names = ['PRI_jet_num']\n",
    "cont_names = list(cont_features.columns)[0:-1]\n",
    "procs = [FillMissing, Categorify]"
   ]
  },
  {
   "cell_type": "code",
   "execution_count": 18,
   "metadata": {},
   "outputs": [
    {
     "data": {
      "text/plain": [
       "0"
      ]
     },
     "execution_count": 18,
     "metadata": {},
     "output_type": "execute_result"
    }
   ],
   "source": [
    "# CHECK FOR NULL VALUES\n",
    "\n",
    "np.count_nonzero(train.isnull().values == True)"
   ]
  },
  {
   "cell_type": "code",
   "execution_count": 37,
   "metadata": {},
   "outputs": [],
   "source": [
    "# CREATE TABULAR DATABUNCH\n",
    "\n",
    "data = (TabularList.from_df(df = train, cat_names=cat_names, cont_names=cont_names, procs=procs)\n",
    ".split_by_idx(train.tail(50000).index)\n",
    ".label_from_df(cols=dep_var)\n",
    ".databunch())"
   ]
  },
  {
   "cell_type": "code",
   "execution_count": 32,
   "metadata": {},
   "outputs": [],
   "source": [
    "data = TabularDataBunch.from_df('higgs_data', df=train, dep_var=dep_var, valid_idx=train.tail(50000).index, procs=procs, cat_names=cat_names, cont_names=cont_names, test_df=test)"
   ]
  },
  {
   "cell_type": "code",
   "execution_count": 33,
   "metadata": {},
   "outputs": [],
   "source": [
    "# CREATE TABULAR LEARNER\n",
    "\n",
    "learner = tabular_learner(data, layers = [1000, 500] , metrics = accuracy)"
   ]
  },
  {
   "cell_type": "code",
   "execution_count": 34,
   "metadata": {},
   "outputs": [
    {
     "data": {
      "text/html": [
       "<table border=\"1\" class=\"dataframe\">\n",
       "  <thead>\n",
       "    <tr style=\"text-align: left;\">\n",
       "      <th>epoch</th>\n",
       "      <th>train_loss</th>\n",
       "      <th>valid_loss</th>\n",
       "      <th>accuracy</th>\n",
       "      <th>time</th>\n",
       "    </tr>\n",
       "  </thead>\n",
       "  <tbody>\n",
       "    <tr>\n",
       "      <td>0</td>\n",
       "      <td>0.391741</td>\n",
       "      <td>0.380253</td>\n",
       "      <td>0.830020</td>\n",
       "      <td>00:28</td>\n",
       "    </tr>\n",
       "    <tr>\n",
       "      <td>1</td>\n",
       "      <td>0.373770</td>\n",
       "      <td>0.370827</td>\n",
       "      <td>0.836780</td>\n",
       "      <td>00:28</td>\n",
       "    </tr>\n",
       "    <tr>\n",
       "      <td>2</td>\n",
       "      <td>0.368982</td>\n",
       "      <td>0.362818</td>\n",
       "      <td>0.840160</td>\n",
       "      <td>00:28</td>\n",
       "    </tr>\n",
       "  </tbody>\n",
       "</table>"
      ],
      "text/plain": [
       "<IPython.core.display.HTML object>"
      ]
     },
     "metadata": {},
     "output_type": "display_data"
    }
   ],
   "source": [
    "# TRAIN LEARNER\n",
    "\n",
    "learner.fit_one_cycle(3, 1e-3)"
   ]
  },
  {
   "cell_type": "code",
   "execution_count": 35,
   "metadata": {},
   "outputs": [
    {
     "data": {
      "image/png": "[encoded data removed]",
      "text/plain": [
       "<Figure size 432x288 with 1 Axes>"
      ]
     },
     "metadata": {
      "needs_background": "light"
     },
     "output_type": "display_data"
    }
   ],
   "source": [
    "# PLOT CONFUSION MATRIX (for validation set)\n",
    "\n",
    "interp = ClassificationInterpretation.from_learner(learner)\n",
    "interp.plot_confusion_matrix()"
   ]
  },
  {
   "cell_type": "code",
   "execution_count": 36,
   "metadata": {},
   "outputs": [],
   "source": [
    "# EVALUATION METRIC FOR CHALLENGE\n",
    "\n",
    "def AMS(s, b):\n",
    "    \"\"\" Approximate Median Significance defined as:\n",
    "        AMS = sqrt(\n",
    "                2 { (s + b + b_r) log[1 + (s/(b+b_r))] - s}\n",
    "              )        \n",
    "    where b_r = 10, b = background, s = signal, log is natural logarithm \"\"\"\n",
    "    \n",
    "    br = 10.0\n",
    "    radicand = 2 *( (s+b+br) * math.log (1.0 + s/(b+br)) -s)\n",
    "    if radicand < 0:\n",
    "        print('radicand is negative. Exiting')\n",
    "        exit()\n",
    "    else:\n",
    "        return math.sqrt(radicand)"
   ]
  },
  {
   "cell_type": "code",
   "execution_count": 110,
   "metadata": {},
   "outputs": [],
   "source": [
    "# LOAD PREDICTIONS\n",
    "\n",
    "predictions = learner.get_preds(ds_type=DatasetType.Test, with_loss=False)"
   ]
  },
  {
   "cell_type": "code",
   "execution_count": 120,
   "metadata": {},
   "outputs": [],
   "source": [
    "# GET PREDICTED CLASSES\n",
    "\n",
    "predicted_classes = []\n",
    "for i in range(len(data.test_ds)):\n",
    "    if predictions[0][i][1] > predictions[0][i][0]:\n",
    "        predicted_classes.append('s')\n",
    "    else:\n",
    "        predicted_classes.append('b')"
   ]
  },
  {
   "cell_type": "code",
   "execution_count": 158,
   "metadata": {},
   "outputs": [],
   "source": [
    "# GET PREDICTION PROBABILITIES\n",
    "\n",
    "prediction_probs = []\n",
    "for i in range(len(data.test_ds)):\n",
    "    prediction_probs.append((float(predictions[0][i][1].numpy())))"
   ]
  },
  {
   "cell_type": "code",
   "execution_count": 179,
   "metadata": {},
   "outputs": [
    {
     "data": {
      "text/html": [
       "<div>\n",
       "<style scoped>\n",
       "    .dataframe tbody tr th:only-of-type {\n",
       "        vertical-align: middle;\n",
       "    }\n",
       "\n",
       "    .dataframe tbody tr th {\n",
       "        vertical-align: top;\n",
       "    }\n",
       "\n",
       "    .dataframe thead th {\n",
       "        text-align: right;\n",
       "    }\n",
       "</style>\n",
       "<table border=\"1\" class=\"dataframe\">\n",
       "  <thead>\n",
       "    <tr style=\"text-align: right;\">\n",
       "      <th></th>\n",
       "      <th>EventId</th>\n",
       "      <th>RankOrder</th>\n",
       "      <th>Class</th>\n",
       "    </tr>\n",
       "  </thead>\n",
       "  <tbody>\n",
       "    <tr>\n",
       "      <th>262327</th>\n",
       "      <td>612327</td>\n",
       "      <td>7.583629e-07</td>\n",
       "      <td>b</td>\n",
       "    </tr>\n",
       "    <tr>\n",
       "      <th>193238</th>\n",
       "      <td>543238</td>\n",
       "      <td>5.496273e-06</td>\n",
       "      <td>b</td>\n",
       "    </tr>\n",
       "    <tr>\n",
       "      <th>237720</th>\n",
       "      <td>587720</td>\n",
       "      <td>6.316556e-06</td>\n",
       "      <td>b</td>\n",
       "    </tr>\n",
       "    <tr>\n",
       "      <th>97172</th>\n",
       "      <td>447172</td>\n",
       "      <td>2.829122e-05</td>\n",
       "      <td>b</td>\n",
       "    </tr>\n",
       "    <tr>\n",
       "      <th>144075</th>\n",
       "      <td>494075</td>\n",
       "      <td>3.037607e-05</td>\n",
       "      <td>b</td>\n",
       "    </tr>\n",
       "  </tbody>\n",
       "</table>\n",
       "</div>"
      ],
      "text/plain": [
       "        EventId     RankOrder Class\n",
       "262327   612327  7.583629e-07     b\n",
       "193238   543238  5.496273e-06     b\n",
       "237720   587720  6.316556e-06     b\n",
       "97172    447172  2.829122e-05     b\n",
       "144075   494075  3.037607e-05     b"
      ]
     },
     "execution_count": 179,
     "metadata": {},
     "output_type": "execute_result"
    }
   ],
   "source": [
    "# CREATE PRELIMINARY SUBMISSION FILE\n",
    "\n",
    "submission = pd.DataFrame({'EventId': higgs_test['EventId'],\n",
    "                          'RankOrder': prediction_probs,\n",
    "                          'Class': predicted_classes})\n",
    "submission = submission.sort_values(by=['RankOrder'])\n",
    "submission.head(1)"
   ]
  },
  {
   "cell_type": "code",
   "execution_count": 180,
   "metadata": {},
   "outputs": [],
   "source": [
    "# CONVERT PROBS TO RANK ORDER\n",
    "\n",
    "for i in range(len(submission)):\n",
    "    submission.iloc[i,1] = int(i + 1)"
   ]
  },
  {
   "cell_type": "code",
   "execution_count": 206,
   "metadata": {},
   "outputs": [],
   "source": [
    "# CONVERT RANK ORDERS TO INT32\n",
    "\n",
    "ranks = []\n",
    "for i in range(550000):\n",
    "    ranks.append(int(submission.iloc[i,1]))\n",
    "\n",
    "submission['RankOrder'] = ranks"
   ]
  },
  {
   "cell_type": "code",
   "execution_count": 182,
   "metadata": {},
   "outputs": [],
   "source": [
    "# SORT BY EVENT ID\n",
    "\n",
    "submission = submission.sort_values(by=['EventId'])"
   ]
  },
  {
   "cell_type": "code",
   "execution_count": 207,
   "metadata": {},
   "outputs": [
    {
     "data": {
      "text/html": [
       "<div>\n",
       "<style scoped>\n",
       "    .dataframe tbody tr th:only-of-type {\n",
       "        vertical-align: middle;\n",
       "    }\n",
       "\n",
       "    .dataframe tbody tr th {\n",
       "        vertical-align: top;\n",
       "    }\n",
       "\n",
       "    .dataframe thead th {\n",
       "        text-align: right;\n",
       "    }\n",
       "</style>\n",
       "<table border=\"1\" class=\"dataframe\">\n",
       "  <thead>\n",
       "    <tr style=\"text-align: right;\">\n",
       "      <th></th>\n",
       "      <th>EventId</th>\n",
       "      <th>RankOrder</th>\n",
       "      <th>Class</th>\n",
       "    </tr>\n",
       "  </thead>\n",
       "  <tbody>\n",
       "    <tr>\n",
       "      <th>0</th>\n",
       "      <td>350000</td>\n",
       "      <td>550000</td>\n",
       "      <td>s</td>\n",
       "    </tr>\n",
       "  </tbody>\n",
       "</table>\n",
       "</div>"
      ],
      "text/plain": [
       "   EventId  RankOrder Class\n",
       "0   350000     550000     s"
      ]
     },
     "execution_count": 207,
     "metadata": {},
     "output_type": "execute_result"
    }
   ],
   "source": [
    "# CREATE FINAL SUBMISSION FILE\n",
    "\n",
    "submission = pd.DataFrame({'EventId': higgs_test['EventId'],\n",
    "                          'RankOrder': ranks,\n",
    "                          'Class': predicted_classes})\n",
    "submission.head(1)"
   ]
  },
  {
   "cell_type": "code",
   "execution_count": 205,
   "metadata": {},
   "outputs": [],
   "source": [
    "# EXPORT TO CSV\n",
    "\n",
    "submission.to_csv('submission.csv', sep=',', index=False, index_label=False)"
   ]
  },
  {
   "cell_type": "code",
   "execution_count": null,
   "metadata": {},
   "outputs": [],
   "source": []
  }
 ],
 "metadata": {
  "kernelspec": {
   "display_name": "Python 3",
   "language": "python",
   "name": "python3"
  },
  "language_info": {
   "codemirror_mode": {
    "name": "ipython",
    "version": 3
   },
   "file_extension": ".py",
   "mimetype": "text/x-python",
   "name": "python",
   "nbconvert_exporter": "python",
   "pygments_lexer": "ipython3",
   "version": "3.6.5"
  }
 },
 "nbformat": 4,
 "nbformat_minor": 2
}
